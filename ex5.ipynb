{
  "nbformat": 4,
  "nbformat_minor": 0,
  "metadata": {
    "colab": {
      "name": "ex5.ipynb",
      "version": "0.3.2",
      "provenance": [],
      "include_colab_link": true
    },
    "kernelspec": {
      "name": "python3",
      "display_name": "Python 3"
    }
  },
  "cells": [
    {
      "cell_type": "markdown",
      "metadata": {
        "id": "view-in-github",
        "colab_type": "text"
      },
      "source": [
        "<a href=\"https://colab.research.google.com/github/kimrojas/Python_2019/blob/master/ex5.ipynb\" target=\"_parent\"><img src=\"https://colab.research.google.com/assets/colab-badge.svg\" alt=\"Open In Colab\"/></a>"
      ]
    },
    {
      "cell_type": "markdown",
      "metadata": {
        "id": "M5UUP-z8FMaZ",
        "colab_type": "text"
      },
      "source": [
        "# Exercise 5. More Variables and Printing\n",
        "This time we’ll use something called a “format string.” Every time you put \" (doublequotes) around a piece of text you have been making a string. A string is how you make something that your program might give to a human. You print strings, save strings to files, send strings to web servers, and many other things."
      ]
    },
    {
      "cell_type": "markdown",
      "metadata": {
        "id": "p_IioWuxGPoD",
        "colab_type": "text"
      },
      "source": [
        "#### Variable allocation"
      ]
    },
    {
      "cell_type": "code",
      "metadata": {
        "id": "g3tXoX-sF2Vg",
        "colab_type": "code",
        "colab": {}
      },
      "source": [
        "my_name = 'Zed A. Shaw'\n",
        "my_age = 35 # not a lie\n",
        "my_height = 74 # inches\n",
        "my_weight = 180 #lbs\n",
        "my_eyes = 'Blue'\n",
        "my_teeth = 'White'\n",
        "my_hair = 'Brown'"
      ],
      "execution_count": 0,
      "outputs": []
    },
    {
      "cell_type": "markdown",
      "metadata": {
        "id": "Q1czmxnKGUsP",
        "colab_type": "text"
      },
      "source": [
        "#### Print inputs"
      ]
    },
    {
      "cell_type": "code",
      "metadata": {
        "id": "DPZLuTPZGYy3",
        "colab_type": "code",
        "colab": {
          "base_uri": "https://localhost:8080/",
          "height": 139
        },
        "outputId": "c7857fbc-c0ad-4e39-8ca0-2ef7b69f0bc9"
      },
      "source": [
        "print (f\"Let's talk about {my_name}.\")\n",
        "print (f\"He's {my_height} inches tall.\")\n",
        "print (f\"He's {my_weight} pound heavy.\")\n",
        "print (\"Actually that's not too heavy.\")\n",
        "print (f\"He's got {my_eyes} eyes and {my_hair} hair.\")\n",
        "print (f\"His teeth are usually {my_teeth} depending on the coffee.\")\n",
        "\n",
        "# This line is tricky, try to get it exactly right\n",
        "total = my_age + my_height + my_weight\n",
        "\n",
        "print (f\"If I add {my_age}, {my_height}, and {my_weight}, I get {total}.\")\n"
      ],
      "execution_count": 2,
      "outputs": [
        {
          "output_type": "stream",
          "text": [
            "Let's talk about Zed A. Shaw.\n",
            "He's 74 inches tall.\n",
            "He's 180 pound heavy.\n",
            "Actually that's not too heavy.\n",
            "He's got Blue eyes and Brown hair\n",
            "His teeth are usually White depending on the color of the light\n",
            "If I add 35, 74, and 180, I get 289.\n"
          ],
          "name": "stdout"
        }
      ]
    },
    {
      "cell_type": "markdown",
      "metadata": {
        "id": "AgYjuTr1HxL9",
        "colab_type": "text"
      },
      "source": [
        "### Additional exercise\n",
        "1. Change the variables by removing **my_**. Make sure you also change the variables in the printing section. \n",
        "\n",
        "2. Rewrite the code such that you are converting the input inches and pounds into centimeter and kilograms. **Do not just convert them using a calculator**. Use the python for the calculation, i.e.\n",
        "\n",
        "```\n",
        "   x = a*b\n",
        "```\n",
        "\n",
        " "
      ]
    }
  ]
}