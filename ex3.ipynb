{
  "nbformat": 4,
  "nbformat_minor": 0,
  "metadata": {
    "colab": {
      "name": "ex3.ipynb",
      "version": "0.3.2",
      "provenance": [],
      "include_colab_link": true
    },
    "kernelspec": {
      "name": "python3",
      "display_name": "Python 3"
    }
  },
  "cells": [
    {
      "cell_type": "markdown",
      "metadata": {
        "id": "view-in-github",
        "colab_type": "text"
      },
      "source": [
        "<a href=\"https://colab.research.google.com/github/kimrojas/Python_2019/blob/master/ex3.ipynb\" target=\"_parent\"><img src=\"https://colab.research.google.com/assets/colab-badge.svg\" alt=\"Open In Colab\"/></a>"
      ]
    },
    {
      "cell_type": "markdown",
      "metadata": {
        "id": "iG_2hAqu3MFc",
        "colab_type": "text"
      },
      "source": [
        "#Exercise 3. Numbers and Math\n",
        "This exercise teaches about the usage of python with mathematics. \n",
        "\n",
        "For starters, let's define the symbols first\n",
        "\n",
        "* ''+'' plus\n",
        "* \"-\" minus\n",
        "* \"/\" slash\n",
        "* \"*\" asterisk \n",
        "* \"%\" percent\n",
        "* \"<\" less-than\n",
        "* \">\" greater-than\n",
        "* \"<=\" less-than-equal\n",
        "* \">=\" greater-than-equal\n",
        "\n",
        "note that the operations / rules are missing. Later go back and check its usage. \n",
        "\n"
      ]
    },
    {
      "cell_type": "code",
      "metadata": {
        "id": "5JzCS68G4ZXc",
        "colab_type": "code",
        "colab": {
          "base_uri": "https://localhost:8080/",
          "height": 35
        },
        "outputId": "2148470d-1e03-427f-edbf-0f7b37f24cc2"
      },
      "source": [
        "print (\"I will now count my chickens:\")"
      ],
      "execution_count": 1,
      "outputs": [
        {
          "output_type": "stream",
          "text": [
            "I will now count my chickens:\n"
          ],
          "name": "stdout"
        }
      ]
    },
    {
      "cell_type": "code",
      "metadata": {
        "id": "FBhnF_-K4eQb",
        "colab_type": "code",
        "colab": {
          "base_uri": "https://localhost:8080/",
          "height": 52
        },
        "outputId": "c74dc04b-ed61-44b4-b853-a8c1729f1c01"
      },
      "source": [
        "print (\"Hens\", 25 + 30 / 6)\n",
        "print (\"Roosters\", 100 - 25 * 3 % 4)"
      ],
      "execution_count": 10,
      "outputs": [
        {
          "output_type": "stream",
          "text": [
            "Hens 30.0\n",
            "Roosters 97\n"
          ],
          "name": "stdout"
        }
      ]
    },
    {
      "cell_type": "code",
      "metadata": {
        "id": "-_7xo0ck5Yl8",
        "colab_type": "code",
        "colab": {
          "base_uri": "https://localhost:8080/",
          "height": 35
        },
        "outputId": "7c137946-871c-40cc-a062-237acaf31254"
      },
      "source": [
        "print (\"Now, I will count the eggs:\")"
      ],
      "execution_count": 8,
      "outputs": [
        {
          "output_type": "stream",
          "text": [
            "Now, I will count the eggs:\n"
          ],
          "name": "stdout"
        }
      ]
    },
    {
      "cell_type": "code",
      "metadata": {
        "id": "70lX2Zsi5j3e",
        "colab_type": "code",
        "colab": {
          "base_uri": "https://localhost:8080/",
          "height": 35
        },
        "outputId": "03075554-b041-4141-82bc-bdbc787c4ff3"
      },
      "source": [
        "print (3 + 2 + 1 -  5 +  4 % 2 - 1 / 4 + 6)"
      ],
      "execution_count": 9,
      "outputs": [
        {
          "output_type": "stream",
          "text": [
            "6.75\n"
          ],
          "name": "stdout"
        }
      ]
    },
    {
      "cell_type": "code",
      "metadata": {
        "id": "oq_A8fXn6jbH",
        "colab_type": "code",
        "colab": {
          "base_uri": "https://localhost:8080/",
          "height": 52
        },
        "outputId": "b193e9ba-b1ef-4333-dff7-ab59f995a940"
      },
      "source": [
        "print (\"Is it true that 3 + 2  <  5 - 7?\")\n",
        "print (3 + 2 < 5 -7)"
      ],
      "execution_count": 11,
      "outputs": [
        {
          "output_type": "stream",
          "text": [
            "Is it true that 3 + 2  <  5 - 7?\n",
            "False\n"
          ],
          "name": "stdout"
        }
      ]
    },
    {
      "cell_type": "code",
      "metadata": {
        "id": "JBbGYjmG6wIi",
        "colab_type": "code",
        "colab": {
          "base_uri": "https://localhost:8080/",
          "height": 35
        },
        "outputId": "30594f00-7514-42ec-a933-0b826f709d32"
      },
      "source": [
        "print (\"What is 3 + 2?\", 3 + 2 )"
      ],
      "execution_count": 12,
      "outputs": [
        {
          "output_type": "stream",
          "text": [
            "What is 3 + 2? 5\n"
          ],
          "name": "stdout"
        }
      ]
    },
    {
      "cell_type": "code",
      "metadata": {
        "id": "-9MvZjAa7E12",
        "colab_type": "code",
        "colab": {
          "base_uri": "https://localhost:8080/",
          "height": 35
        },
        "outputId": "650e0236-1c5d-43c9-aee2-5b650fbd7ce7"
      },
      "source": [
        "print (\"What is  5 - 7?\", 5 - 7)"
      ],
      "execution_count": 13,
      "outputs": [
        {
          "output_type": "stream",
          "text": [
            "What is  5 - 7? -2\n"
          ],
          "name": "stdout"
        }
      ]
    },
    {
      "cell_type": "code",
      "metadata": {
        "id": "QFg2sOuf7Mar",
        "colab_type": "code",
        "colab": {
          "base_uri": "https://localhost:8080/",
          "height": 35
        },
        "outputId": "ff8d0ca0-c5fa-4591-cd47-6aa7cea121c6"
      },
      "source": [
        "print (\"Oh, that's why its False.\")"
      ],
      "execution_count": 14,
      "outputs": [
        {
          "output_type": "stream",
          "text": [
            "Oh, that's why its False.\n"
          ],
          "name": "stdout"
        }
      ]
    },
    {
      "cell_type": "code",
      "metadata": {
        "id": "QlpzCyoX7VTg",
        "colab_type": "code",
        "colab": {
          "base_uri": "https://localhost:8080/",
          "height": 35
        },
        "outputId": "f520fa40-df02-4482-e559-c534de2d2719"
      },
      "source": [
        "print (\"How about some more.\")"
      ],
      "execution_count": 15,
      "outputs": [
        {
          "output_type": "stream",
          "text": [
            "How about some more.\n"
          ],
          "name": "stdout"
        }
      ]
    },
    {
      "cell_type": "code",
      "metadata": {
        "id": "AwCp7inY7aC7",
        "colab_type": "code",
        "colab": {
          "base_uri": "https://localhost:8080/",
          "height": 35
        },
        "outputId": "ea389c5f-9fb6-4da0-f3b3-3a371eb189cc"
      },
      "source": [
        "print (\"Is it greater?\", 5 > -2)"
      ],
      "execution_count": 16,
      "outputs": [
        {
          "output_type": "stream",
          "text": [
            "Is it greater? True\n"
          ],
          "name": "stdout"
        }
      ]
    },
    {
      "cell_type": "code",
      "metadata": {
        "id": "bZOO9lHb7j2u",
        "colab_type": "code",
        "colab": {
          "base_uri": "https://localhost:8080/",
          "height": 35
        },
        "outputId": "6827d6fb-9122-4fe1-d126-a825432909c5"
      },
      "source": [
        "print (\"Is it greater or equal?\", 5 >= -2)"
      ],
      "execution_count": 17,
      "outputs": [
        {
          "output_type": "stream",
          "text": [
            "Is it greater or equal? True\n"
          ],
          "name": "stdout"
        }
      ]
    },
    {
      "cell_type": "code",
      "metadata": {
        "id": "j6mZE1N17sXH",
        "colab_type": "code",
        "colab": {
          "base_uri": "https://localhost:8080/",
          "height": 35
        },
        "outputId": "ee8830b7-798b-4464-f294-c9136eb0a0d4"
      },
      "source": [
        "print (\"Is it less or equal?\", 5 <= -2)"
      ],
      "execution_count": 18,
      "outputs": [
        {
          "output_type": "stream",
          "text": [
            "Is it less or equal? False\n"
          ],
          "name": "stdout"
        }
      ]
    }
  ]
}