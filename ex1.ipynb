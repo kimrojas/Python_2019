{
  "nbformat": 4,
  "nbformat_minor": 0,
  "metadata": {
    "colab": {
      "name": "ex1.ipynb",
      "version": "0.3.2",
      "provenance": [],
      "collapsed_sections": [],
      "include_colab_link": true
    },
    "kernelspec": {
      "name": "python3",
      "display_name": "Python 3"
    }
  },
  "cells": [
    {
      "cell_type": "markdown",
      "metadata": {
        "id": "view-in-github",
        "colab_type": "text"
      },
      "source": [
        "<a href=\"https://colab.research.google.com/github/kimrojas/Python_2019/blob/master/ex1.ipynb\" target=\"_parent\"><img src=\"https://colab.research.google.com/assets/colab-badge.svg\" alt=\"Open In Colab\"/></a>"
      ]
    },
    {
      "cell_type": "markdown",
      "metadata": {
        "id": "tYqMAAgHy93e",
        "colab_type": "text"
      },
      "source": [
        "# Execise 1. A Good First Program\n",
        "Printing execises. "
      ]
    },
    {
      "cell_type": "markdown",
      "metadata": {
        "id": "TMLIV00pzaGs",
        "colab_type": "text"
      },
      "source": [
        "### Print with \" \""
      ]
    },
    {
      "cell_type": "code",
      "metadata": {
        "id": "K91jaOcszP_9",
        "colab_type": "code",
        "colab": {}
      },
      "source": [
        "print (\"Hello world!\")"
      ],
      "execution_count": 0,
      "outputs": []
    },
    {
      "cell_type": "markdown",
      "metadata": {
        "id": "Sj-Mf5LrzZHE",
        "colab_type": "text"
      },
      "source": [
        "### Print with  ' '"
      ]
    },
    {
      "cell_type": "code",
      "metadata": {
        "id": "2Ca8BAvtzubL",
        "colab_type": "code",
        "colab": {}
      },
      "source": [
        "print ('Hello again!')"
      ],
      "execution_count": 0,
      "outputs": []
    },
    {
      "cell_type": "markdown",
      "metadata": {
        "id": "sBPuPhj6z4vq",
        "colab_type": "text"
      },
      "source": [
        "### Print with tab"
      ]
    },
    {
      "cell_type": "code",
      "metadata": {
        "id": "BbFUS09iz9Jw",
        "colab_type": "code",
        "colab": {}
      },
      "source": [
        "print"
      ],
      "execution_count": 0,
      "outputs": []
    }
  ]
}