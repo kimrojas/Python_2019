{
  "nbformat": 4,
  "nbformat_minor": 0,
  "metadata": {
    "colab": {
      "name": "ex1.ipynb",
      "version": "0.3.2",
      "provenance": [],
      "collapsed_sections": [],
      "include_colab_link": true
    },
    "kernelspec": {
      "name": "python3",
      "display_name": "Python 3"
    }
  },
  "cells": [
    {
      "cell_type": "markdown",
      "metadata": {
        "id": "view-in-github",
        "colab_type": "text"
      },
      "source": [
        "<a href=\"https://colab.research.google.com/github/kimrojas/Python_2019/blob/master/ex1.ipynb\" target=\"_parent\"><img src=\"https://colab.research.google.com/assets/colab-badge.svg\" alt=\"Open In Colab\"/></a>"
      ]
    },
    {
      "cell_type": "markdown",
      "metadata": {
        "id": "tYqMAAgHy93e",
        "colab_type": "text"
      },
      "source": [
        "# Execise 1. A Good First Program\n",
        "This exercise teaches about printing"
      ]
    },
    {
      "cell_type": "markdown",
      "metadata": {
        "id": "TMLIV00pzaGs",
        "colab_type": "text"
      },
      "source": [
        "### Print with using \" \""
      ]
    },
    {
      "cell_type": "code",
      "metadata": {
        "id": "K91jaOcszP_9",
        "colab_type": "code",
        "colab": {}
      },
      "source": [
        "print (\"Hello world!\")"
      ],
      "execution_count": 0,
      "outputs": []
    },
    {
      "cell_type": "markdown",
      "metadata": {
        "id": "Sj-Mf5LrzZHE",
        "colab_type": "text"
      },
      "source": [
        "### Print with using ' '"
      ]
    },
    {
      "cell_type": "code",
      "metadata": {
        "id": "2Ca8BAvtzubL",
        "colab_type": "code",
        "colab": {}
      },
      "source": [
        "print ('Hello again!')"
      ],
      "execution_count": 0,
      "outputs": []
    },
    {
      "cell_type": "markdown",
      "metadata": {
        "id": "sBPuPhj6z4vq",
        "colab_type": "text"
      },
      "source": [
        "### Print with tab using \\t\n",
        "disable function by puting \\t inside ''"
      ]
    },
    {
      "cell_type": "code",
      "metadata": {
        "id": "BbFUS09iz9Jw",
        "colab_type": "code",
        "colab": {}
      },
      "source": [
        "print (\"I like typing \\t this.\")"
      ],
      "execution_count": 0,
      "outputs": []
    },
    {
      "cell_type": "markdown",
      "metadata": {
        "id": "w7ao2nFE1Ehv",
        "colab_type": "text"
      },
      "source": [
        "### Multi-line print"
      ]
    },
    {
      "cell_type": "markdown",
      "metadata": {
        "id": "Lsz6KGMz1jly",
        "colab_type": "text"
      },
      "source": [
        "#### using more lines"
      ]
    },
    {
      "cell_type": "code",
      "metadata": {
        "id": "TTwGX-W01rt_",
        "colab_type": "code",
        "colab": {}
      },
      "source": [
        "print (\"Yay!\")\n",
        "print (\"Printing.\")"
      ],
      "execution_count": 0,
      "outputs": []
    },
    {
      "cell_type": "markdown",
      "metadata": {
        "id": "P1iqj8iD1K-m",
        "colab_type": "text"
      },
      "source": [
        "#### using \\n"
      ]
    },
    {
      "cell_type": "code",
      "metadata": {
        "id": "IWzCoypx1WRm",
        "colab_type": "code",
        "colab": {}
      },
      "source": [
        "print (\"Yay! \\nPrinting.\")"
      ],
      "execution_count": 0,
      "outputs": []
    },
    {
      "cell_type": "markdown",
      "metadata": {
        "id": "j9hsKllz2Gxp",
        "colab_type": "text"
      },
      "source": [
        "#### using ''' '''"
      ]
    },
    {
      "cell_type": "code",
      "metadata": {
        "id": "a34KNlG52M7a",
        "colab_type": "code",
        "colab": {}
      },
      "source": [
        "print ('''Yay! \n",
        "Printing.''')"
      ],
      "execution_count": 0,
      "outputs": []
    },
    {
      "cell_type": "markdown",
      "metadata": {
        "id": "tkVXJtcUcxfk",
        "colab_type": "text"
      },
      "source": [
        "### Adding strings"
      ]
    },
    {
      "cell_type": "code",
      "metadata": {
        "id": "A_MpCc5Lc7N8",
        "colab_type": "code",
        "colab": {}
      },
      "source": [
        "print (\"Hello\" + \" world!\")"
      ],
      "execution_count": 0,
      "outputs": []
    },
    {
      "cell_type": "markdown",
      "metadata": {
        "id": "P2u9r_2UPMBx",
        "colab_type": "text"
      },
      "source": [
        "### Additional wrong code. Try to make right"
      ]
    },
    {
      "cell_type": "code",
      "metadata": {
        "id": "9DN2b-3ocLEq",
        "colab_type": "code",
        "colab": {}
      },
      "source": [
        "print (\"Hello world!\""
      ],
      "execution_count": 0,
      "outputs": []
    },
    {
      "cell_type": "code",
      "metadata": {
        "id": "W5jmRHzqcO5g",
        "colab_type": "code",
        "colab": {}
      },
      "source": [
        "Print (\"Hello world!\")"
      ],
      "execution_count": 0,
      "outputs": []
    },
    {
      "cell_type": "code",
      "metadata": {
        "id": "Y0a5K3xtcS0N",
        "colab_type": "code",
        "colab": {}
      },
      "source": [
        "print (\"Hello\") world!"
      ],
      "execution_count": 0,
      "outputs": []
    },
    {
      "cell_type": "code",
      "metadata": {
        "id": "El8QC9BYc_xL",
        "colab_type": "code",
        "colab": {}
      },
      "source": [
        "print (\"hello\" +3)"
      ],
      "execution_count": 0,
      "outputs": []
    }
  ]
}