{
  "nbformat": 4,
  "nbformat_minor": 0,
  "metadata": {
    "colab": {
      "name": "ex4.ipynb",
      "version": "0.3.2",
      "provenance": [],
      "include_colab_link": true
    },
    "kernelspec": {
      "name": "python3",
      "display_name": "Python 3"
    }
  },
  "cells": [
    {
      "cell_type": "markdown",
      "metadata": {
        "id": "view-in-github",
        "colab_type": "text"
      },
      "source": [
        "<a href=\"https://colab.research.google.com/github/kimrojas/Python_2019/blob/master/ex4.ipynb\" target=\"_parent\"><img src=\"https://colab.research.google.com/assets/colab-badge.svg\" alt=\"Open In Colab\"/></a>"
      ]
    },
    {
      "cell_type": "markdown",
      "metadata": {
        "id": "EIudtId19x2b",
        "colab_type": "text"
      },
      "source": [
        "#Exercise 4. Variables and Names\n",
        "\n",
        "Now you can print things with print and you can do math. The next step is\n",
        "to learn about variables. In programming, a variable is nothing more than a\n",
        "name for something, similar to how my name “Zed” is a name for, “The\n",
        "human who wrote this book.” Programmers use these variable names to make\n",
        "their code read more like English and because they have lousy memories. If\n",
        "they didn’t use good names for things in their software, they’d get lost when\n",
        "they tried to read their code again."
      ]
    },
    {
      "cell_type": "markdown",
      "metadata": {
        "id": "Nvy9BsTO-Vmy",
        "colab_type": "text"
      },
      "source": [
        "#### Allocating variables"
      ]
    },
    {
      "cell_type": "code",
      "metadata": {
        "id": "xpxSyAZf-Zo3",
        "colab_type": "code",
        "colab": {}
      },
      "source": [
        "cars = 100\n",
        "space_in_a_car = 4.0\n",
        "drivers = 30\n",
        "passengers = 90"
      ],
      "execution_count": 0,
      "outputs": []
    },
    {
      "cell_type": "markdown",
      "metadata": {
        "id": "CDUnvDVw-hqV",
        "colab_type": "text"
      },
      "source": [
        "#### Operating on variables"
      ]
    },
    {
      "cell_type": "code",
      "metadata": {
        "id": "qVu53mS0-llj",
        "colab_type": "code",
        "colab": {}
      },
      "source": [
        "cars_not_driven = cars - drivers\n",
        "cars_driven = drivers\n",
        "carpool_capacity = cars_driven * space_in_a_car\n",
        "average_passengers_per_car = passengers / cars_driven"
      ],
      "execution_count": 0,
      "outputs": []
    },
    {
      "cell_type": "markdown",
      "metadata": {
        "id": "Wk3NJzp0_kUB",
        "colab_type": "text"
      },
      "source": [
        "#### Printing out the results"
      ]
    },
    {
      "cell_type": "code",
      "metadata": {
        "id": "hXQwvH6h_nAT",
        "colab_type": "code",
        "colab": {
          "base_uri": "https://localhost:8080/",
          "height": 121
        },
        "outputId": "7477b157-f9c3-4913-a5c0-7f4c20f0d2b3"
      },
      "source": [
        "print (\"There are\", cars, \"cars available.\")\n",
        "print (\"There are only \", drivers, \"drivers available.\")\n",
        "print (\"There will be\", cars_not_driven, \"empty cars today.\")\n",
        "print (\"We can transport\", carpool_capacity, \"peopl today.\")\n",
        "print (\"We have\", passengers, \"to carpool today.\")\n",
        "print (\"We need to put about\", average_passengers_per_car, \"in each car.\")"
      ],
      "execution_count": 7,
      "outputs": [
        {
          "output_type": "stream",
          "text": [
            "There are 100 cars available.\n",
            "There are only  30 drivers available.\n",
            "There will be 70 empty cars today.\n",
            "We can transport 120 peopl today.\n",
            "We have 90 to carpool today.\n",
            "We need to put about 3.0 in each car.\n"
          ],
          "name": "stdout"
        }
      ]
    },
    {
      "cell_type": "markdown",
      "metadata": {
        "id": "5hcBONAVAj6Z",
        "colab_type": "text"
      },
      "source": [
        "### Additional exercise. \n",
        "1. If I get the following error, explain the reason and how to correct it. \n",
        "\n",
        "```\n",
        "Traceback ( most recent call last ):\n",
        "File \"ex4.py\" , line 8 , in <module>\n",
        "average_passengers_per_car = car_pool_capacity / passenger\n",
        "NameError : name ' car_pool_capacity ' is not defined\n",
        "```\n",
        "\n",
        "2. I used 4.0 for space_in_a_car, but is that necessary? What happens if it’s\n",
        "just 4?\n",
        "\n",
        "3. Write comments above each of the variable assignments.\n",
        "\n",
        "4. Can we write x=100 instead of x = 100?\n",
        "\n"
      ]
    }
  ]
}