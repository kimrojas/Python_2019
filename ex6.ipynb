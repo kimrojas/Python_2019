{
  "nbformat": 4,
  "nbformat_minor": 0,
  "metadata": {
    "colab": {
      "name": "ex6.ipynb",
      "version": "0.3.2",
      "provenance": [],
      "include_colab_link": true
    },
    "kernelspec": {
      "name": "python3",
      "display_name": "Python 3"
    }
  },
  "cells": [
    {
      "cell_type": "markdown",
      "metadata": {
        "id": "view-in-github",
        "colab_type": "text"
      },
      "source": [
        "<a href=\"https://colab.research.google.com/github/kimrojas/Python_2019/blob/master/ex6.ipynb\" target=\"_parent\"><img src=\"https://colab.research.google.com/assets/colab-badge.svg\" alt=\"Open In Colab\"/></a>"
      ]
    },
    {
      "cell_type": "markdown",
      "metadata": {
        "id": "dT5ENNh6J0ei",
        "colab_type": "text"
      },
      "source": [
        "# Exercise 6. Strings and Text\n",
        "In this exercise we create a bunch of variables with complex strings so you can see what they are for."
      ]
    },
    {
      "cell_type": "markdown",
      "metadata": {
        "id": "uUXzuHONLevb",
        "colab_type": "text"
      },
      "source": [
        "#### Assign string variables 1"
      ]
    },
    {
      "cell_type": "code",
      "metadata": {
        "id": "eDWQnpftKuJq",
        "colab_type": "code",
        "colab": {}
      },
      "source": [
        "types_of_people = 10\n",
        "x  = f\"There are {types_of_people} types of people.\""
      ],
      "execution_count": 0,
      "outputs": []
    },
    {
      "cell_type": "code",
      "metadata": {
        "id": "7sye7xxlLCpx",
        "colab_type": "code",
        "colab": {}
      },
      "source": [
        "binary = \"binary\"\n",
        "do_not = \"don't\"\n",
        "y = f\"Those who know {binary} and those who {do_not}.\"\n"
      ],
      "execution_count": 0,
      "outputs": []
    },
    {
      "cell_type": "markdown",
      "metadata": {
        "id": "CPSNjKzWLicj",
        "colab_type": "text"
      },
      "source": [
        "#### Print variables 1"
      ]
    },
    {
      "cell_type": "code",
      "metadata": {
        "id": "bxF6ugDrLllu",
        "colab_type": "code",
        "colab": {
          "base_uri": "https://localhost:8080/",
          "height": 52
        },
        "outputId": "ecdeadf2-d024-4c29-a0f2-69b5ae486990"
      },
      "source": [
        "print (x)\n",
        "print (y)"
      ],
      "execution_count": 3,
      "outputs": [
        {
          "output_type": "stream",
          "text": [
            "There are 10 types of people.\n",
            "Those who know binary and those who don't.\n"
          ],
          "name": "stdout"
        }
      ]
    },
    {
      "cell_type": "code",
      "metadata": {
        "id": "NbrYBt3PL_9F",
        "colab_type": "code",
        "colab": {
          "base_uri": "https://localhost:8080/",
          "height": 52
        },
        "outputId": "2d2017ae-a089-4f68-88f3-9acbaaddb618"
      },
      "source": [
        "print (f\"I said: {x}\")\n",
        "print (f\"I also said: '{y}'\")"
      ],
      "execution_count": 4,
      "outputs": [
        {
          "output_type": "stream",
          "text": [
            "I said: There are 10 types of people.\n",
            "I also said: 'Those who know binary and those who don't.'\n"
          ],
          "name": "stdout"
        }
      ]
    },
    {
      "cell_type": "markdown",
      "metadata": {
        "id": "_Oafjs8NNsiv",
        "colab_type": "text"
      },
      "source": [
        "#### Assign string variables 2"
      ]
    },
    {
      "cell_type": "code",
      "metadata": {
        "id": "3Sjlc6loOFGs",
        "colab_type": "code",
        "colab": {}
      },
      "source": [
        "hilarious = False\n",
        "joke_evaluation = \"Isn't that joke so funny?! {}\""
      ],
      "execution_count": 0,
      "outputs": []
    },
    {
      "cell_type": "markdown",
      "metadata": {
        "id": "PGKcw-mnORgn",
        "colab_type": "text"
      },
      "source": [
        "#### Print output 2"
      ]
    },
    {
      "cell_type": "code",
      "metadata": {
        "id": "LWh_ZU-ZOTVB",
        "colab_type": "code",
        "colab": {
          "base_uri": "https://localhost:8080/",
          "height": 35
        },
        "outputId": "afa02743-0250-4480-8167-35394fe564c1"
      },
      "source": [
        "print (joke_evaluation.format(hilarious))"
      ],
      "execution_count": 6,
      "outputs": [
        {
          "output_type": "stream",
          "text": [
            "Isn't that joke so funny?! False\n"
          ],
          "name": "stdout"
        }
      ]
    },
    {
      "cell_type": "markdown",
      "metadata": {
        "id": "WMtnbI2YOd1t",
        "colab_type": "text"
      },
      "source": [
        "#### Assign string variable 3"
      ]
    },
    {
      "cell_type": "code",
      "metadata": {
        "id": "RSJ6W8sAOhGC",
        "colab_type": "code",
        "colab": {}
      },
      "source": [
        "w = \"This is the left side of...\"\n",
        "e = \"a string with a right side.\""
      ],
      "execution_count": 0,
      "outputs": []
    },
    {
      "cell_type": "markdown",
      "metadata": {
        "id": "uhFPU8AWOpnL",
        "colab_type": "text"
      },
      "source": [
        "#### Print output 3"
      ]
    },
    {
      "cell_type": "code",
      "metadata": {
        "id": "eju79-cIOslP",
        "colab_type": "code",
        "colab": {
          "base_uri": "https://localhost:8080/",
          "height": 35
        },
        "outputId": "ca2eaa68-8b96-4cc7-eacb-ae3c7004dcff"
      },
      "source": [
        "print (w + e)"
      ],
      "execution_count": 8,
      "outputs": [
        {
          "output_type": "stream",
          "text": [
            "This is the left side of...a string with a right side.\n"
          ],
          "name": "stdout"
        }
      ]
    },
    {
      "cell_type": "markdown",
      "metadata": {
        "id": "yPTD-X90PG9e",
        "colab_type": "text"
      },
      "source": [
        "### Additional exercise\n",
        "1. Go through the program and write a comment above each line explaining what it does.\n",
        "\n",
        "2. If you like the joke, change *hilarious* to *True*"
      ]
    }
  ]
}